{
 "cells": [
  {
   "cell_type": "markdown",
   "metadata": {},
   "source": [
    "# Taller Computacional 28/09/2023\n",
    "---\n",
    "```python\n",
    "Estos son los paquetes que usaremos en la sesión actual: \n",
    "sympy #Álgebra simbólica computacional.\n",
    "IPython #Escribir funciones en jupyter.\n",
    "numpy #Procesamiento de datos numéricos.\n",
    "gekko #Resolver problemas de optimización con restricciones no lineales.\n",
    "```"
   ]
  },
  {
   "cell_type": "code",
   "execution_count": null,
   "metadata": {},
   "outputs": [],
   "source": [
    "%pip install sympy\n",
    "%pip install IPython\n",
    "%pip install gekko\n",
    "%pip install numpy"
   ]
  },
  {
   "cell_type": "code",
   "execution_count": 39,
   "metadata": {},
   "outputs": [],
   "source": [
    "import sympy as sp\n",
    "from IPython.display import display as dp, Markdown as mk\n",
    "import numpy as np\n",
    "from gekko import GEKKO"
   ]
  },
  {
   "cell_type": "markdown",
   "metadata": {},
   "source": [
    "---\n",
    "## Límites\n",
    "a) Obtener el límite de la secuencia cuando x tiende a infinito.\n",
    "$$\\begin{equation}a_x = \\lim_{x\\to \\infty}\\sqrt{x^2+x+1}-x\\end{equation}$$"
   ]
  },
  {
   "cell_type": "code",
   "execution_count": 87,
   "metadata": {},
   "outputs": [
    {
     "data": {
      "text/markdown": [
       "El límite de la secuencia $\\lim_{{x\\to \\infty}}\\sqrt{x^2+x+1}-x$  es: 1/2"
      ],
      "text/plain": [
       "<IPython.core.display.Markdown object>"
      ]
     },
     "metadata": {},
     "output_type": "display_data"
    },
    {
     "data": {
      "text/markdown": [
       "$\\lim_{{x\\to \\infty}}\\sqrt{x^2+x+1}-x$"
      ],
      "text/plain": [
       "<IPython.core.display.Markdown object>"
      ]
     },
     "metadata": {},
     "output_type": "display_data"
    },
    {
     "data": {
      "image/png": "[encoded data removed]",
      "text/plain": [
       "<Figure size 640x480 with 1 Axes>"
      ]
     },
     "metadata": {},
     "output_type": "display_data"
    }
   ],
   "source": [
    "# Definir la variable simbólica x\n",
    "x = sp.symbols('x')\n",
    "y = sp.symbols('y')\n",
    "\n",
    "# Definir la ecuación a)\n",
    "a = sp.sqrt(x**2 + x + 1) -x\n",
    "\n",
    "# Calcular el límite cuando x tiende a infinito (+)\n",
    "límite = sp.limit(a, x, sp.oo)\n",
    "eq_str = r\"$\\lim_{{x\\to \\infty}}\\sqrt{x^2+x+1}-x$\"\n",
    "\n",
    "# Imprimir el resultado\n",
    "dp(mk(f\"El límite de la secuencia {eq_str}  es: {límite}\"))\n",
    "dp(mk(f\"{eq_str}\"))\n",
    "p1 = sp.plot(a,límite, (x, -1, 100), ylim=[-1, 1], show=False)\n",
    "p1[0].line_color = 'blue'\n",
    "p1[0].label = a\n",
    "p1[1].line_color = 'red'\n",
    "p1[1].label = límite\n",
    "p1.legend = True\n",
    "p1.show()"
   ]
  },
  {
   "cell_type": "markdown",
   "metadata": {},
   "source": [
    "## **Problema Lineal**\n",
    "---\n",
    "### Resuelva el siguiente problema lineal\n",
    "$$\\begin{equation} \\; Min\\;C = x+y+z \\tag{2} \\end{equation}$$\n",
    "$$s.a.$$\n",
    "$$\\begin{align} g(C) = \\mathbf{(y-1)^2 - z^2\\; \\leq 1\\tag{3}} \\\\ h(C)=\\; \\mathbf{x^2+(y-1)^2+z^2 \\leq 3\\tag{4}} \\end{align}$$"
   ]
  },
  {
   "cell_type": "markdown",
   "metadata": {},
   "source": [
    "# Resultados de la optimización con GEKKO\n",
    "\n",
    "A continuación se muestran los resultados de la optimización realizada con la biblioteca GEKKO.\n",
    "\n",
    "## Variables de decisión óptimas\n",
    "\n",
    "- Variable \\(x\\) óptima: Valor óptimo de \\(x\\).\n",
    "- Variable \\(y\\) óptima: Valor óptimo de \\(y\\).\n",
    "- Variable \\(z\\) óptima: Valor óptimo de \\(z\\).\n",
    "\n",
    "## Resultados de la optimización\n",
    "\n",
    "- Función Objetivo Óptima: Valor de la función objetivo en el punto óptimo.\n",
    "- Función \\(g\\) Óptima: Valor de la restricción \\(g\\) en el punto óptimo.\n",
    "- Función \\(h\\) Óptima: Valor de la restricción \\(h\\) en el punto óptimo.\n",
    "\n",
    "## Resultados\n",
    "\n",
    "- **Variable \\(x\\) óptima:** x_optimo\n",
    "- **Variable \\(y\\) óptima:** y_optimo\n",
    "- **Variable \\(z\\) óptima:** z_optimo\n",
    "\n",
    "- **Función Objetivo Óptima:** objetivo_optimo\n",
    "- **Función \\(g\\) Óptima:** g_optimo\n",
    "- **Función \\(h\\) Óptima:** h_optimo\n",
    "\n",
    "Los valores específicos de las variables y funciones en el punto óptimo se pueden encontrar en el código de Python proporcionado.\n",
    "\n",
    "```python\n",
    "# Extraer los valores óptimos\n",
    "x_optimo = c[0].value[0]\n",
    "y_optimo = c[1].value[0]\n",
    "z_optimo = c[2].value[0]\n",
    "\n",
    "# Evaluar la función objetivo y las restricciones\n",
    "objetivo_optimo = x_optimo + y_optimo + z_optimo\n",
    "g_optimo = (y_optimo-1)**2 - z_optimo**2\n",
    "h_optimo = x_optimo**2 + (y_optimo-1)**2 + z_optimo**2\n",
    "\n",
    "# Imprimir los resultados\n",
    "print('Función Objetivo Óptima:', objetivo_optimo)\n",
    "print('Función g Óptima:', g_optimo)\n",
    "print('Función h Óptima:', h_optimo)\n"
   ]
  },
  {
   "cell_type": "code",
   "execution_count": 82,
   "metadata": {},
   "outputs": [
    {
     "name": "stdout",
     "output_type": "stream",
     "text": [
      "Objetivo:  -2.0000000068\n",
      "Solución:  [[-1.0000000034] [3.2000913472e-09] [-1.0000000065]]\n",
      "Función Objetivo Óptima: -2.000000006699909\n",
      "Función g Óptima: -1.9400182793560816e-08\n",
      "Función h Óptima: 3.0000000133998177\n"
     ]
    }
   ],
   "source": [
    "m=GEKKO(remote=False)\n",
    "c=m.Array(m.Var,3, value=1)\n",
    "x, y, z=c\n",
    "#cambiar valores iniciales (no es necesario, pero pueden hacerlo)\n",
    "y.value=5;z.value=3\n",
    "m.Equation((y-1)**2-z**2<=1)\n",
    "m.Equation(x**2+(y-1)**2+z**2<=3)\n",
    "m.Minimize(x+y+z)\n",
    "m.solve(disp=False)\n",
    "\n",
    "# Imprimir solución\n",
    "print('Objetivo: ', m.options.OBJFCNVAL)\n",
    "print('Solución: ', c)\n",
    "# Extraer los valores óptimos\n",
    "x_optimo = c[0].value[0]\n",
    "y_optimo = c[1].value[0]\n",
    "z_optimo = c[2].value[0]\n",
    "\n",
    "# Evaluar la función objetivo y las restricciones\n",
    "objetivo_optimo = x_optimo + y_optimo + z_optimo\n",
    "g_optimo = (y_optimo-1)**2-z_optimo**2\n",
    "h_optimo = x_optimo**2 + (y_optimo-1)**2 + z_optimo**2\n",
    "\n",
    "# Imprimir los resultados\n",
    "print('Función Objetivo Óptima:', objetivo_optimo)\n",
    "print('Función g Óptima:', g_optimo)\n",
    "print('Función h Óptima:', h_optimo)"
   ]
  },
  {
   "cell_type": "markdown",
   "metadata": {},
   "source": [
    "# Ecuaciones en Diferencias\n",
    "---\n",
    "### Resuelva las siguientes ecuaciones en diferencias\n",
    "$\\begin{equation}\\mathbf{y_{t+1}+\\dfrac{1}{4}y_t=5} \\tag{5}\\end{equation} $ $ \\begin{equation}\\mathbf{y_{t+1}-3y_t=4} \\tag{6}\\end{equation} $ $ \\begin{equation}\\mathbf{y_{t+2}-5y_{t+1}-6y_t=2(6)^t}\\tag{7}\\end{equation}$"
   ]
  },
  {
   "cell_type": "markdown",
   "metadata": {},
   "source": [
    "## Resultados de las Ecuaciones en Diferencias\n",
    "### Ecuación (5)"
   ]
  },
  {
   "cell_type": "code",
   "execution_count": 44,
   "metadata": {},
   "outputs": [
    {
     "data": {
      "text/markdown": [
       "La solución general de la ecuación en diferencias $\\begin{equation}\\mathbf{y_{t+1}+\\dfrac{1}{4}\\cdot y_t=5} \\tag{5}\\end{equation} $ es: $$y(t) = 4 - C_0 \\cdot \\left(-\\frac{1}{4}\\right)^t\\tag{5.a}$$"
      ],
      "text/plain": [
       "<IPython.core.display.Markdown object>"
      ]
     },
     "metadata": {},
     "output_type": "display_data"
    },
    {
     "data": {
      "text/markdown": [
       "La solución particular cuando y(0) = 0 es: $\\begin{equation}\\mathbf{y(t)=4-4\\cdot(-\\dfrac{1}{4})^t}\\end{equation}\\tag{5.b}$"
      ],
      "text/plain": [
       "<IPython.core.display.Markdown object>"
      ]
     },
     "metadata": {},
     "output_type": "display_data"
    }
   ],
   "source": [
    "# Definir variables y la ecuación en diferencias\n",
    "t , c = sp.symbols('t c')\n",
    "y = sp.Function('y')\n",
    "ecuacion_str=r\"$\\begin{equation}\\mathbf{y_{t+1}+\\dfrac{1}{4}\\cdot y_t=5} \\tag{5}\\end{equation} $\"\n",
    "ecuacion = sp.Eq(y(t + 1) + (1/4)*y(t), 5)\n",
    "# Esta es la solución general de la ecuación en diferencias\n",
    "solucion_general = sp.rsolve(ecuacion, y(t))\n",
    "solucion_general_str = r\"$$y(t) = 4 - C_0 \\cdot \\left(-\\frac{1}{4}\\right)^t\\tag{5.a}$$\"\n",
    "dp(mk(f\"La solución general de la ecuación en diferencias {ecuacion_str} es: {solucion_general_str}\"))\n",
    "# Resolver la ecuación en diferencias (acá asignamos que y(0) = 0)\n",
    "solucion_particular = sp.rsolve(ecuacion, y(t), {y(0): 0})\n",
    "solucion_particular_str = r\"$\\begin{equation}\\mathbf{y(t)=4-4\\cdot(-\\dfrac{1}{4})^t}\\end{equation}\\tag{5.b}$\"\n",
    "# Mostrar la solución\n",
    "dp(mk(f\"La solución particular cuando y(0) = 0 es: {solucion_particular_str}\"))"
   ]
  },
  {
   "cell_type": "markdown",
   "metadata": {},
   "source": [
    "### Ecuación (6)"
   ]
  },
  {
   "cell_type": "code",
   "execution_count": 57,
   "metadata": {},
   "outputs": [
    {
     "data": {
      "text/markdown": [
       "La solución general de la ecuación en diferencias $\\begin{equation}\\mathbf{y_{t+1}-3\\cdot y_t=4} \\tag{6}\\end{equation}$ es: $$y(t) = C_0\\cdot 3^t - 2\\tag{6.a}$$"
      ],
      "text/plain": [
       "<IPython.core.display.Markdown object>"
      ]
     },
     "metadata": {},
     "output_type": "display_data"
    },
    {
     "data": {
      "text/markdown": [
       "La solución particular cuando y(0) = 0 es: $\\begin{equation}\\mathbf{y(t)=2\\cdot 3^t-2}\\end{equation}\\tag{6.b}$"
      ],
      "text/plain": [
       "<IPython.core.display.Markdown object>"
      ]
     },
     "metadata": {},
     "output_type": "display_data"
    }
   ],
   "source": [
    "t, c = sp.symbols('t c')\n",
    "y = sp.Function('y')\n",
    "\n",
    "# Definir variables y la ecuación en diferencias\n",
    "ecuacion_str = r\"$\\begin{equation}\\mathbf{y_{t+1}-3\\cdot y_t=4} \\tag{6}\\end{equation}$\"\n",
    "ecuacion = sp.Eq(y(t + 1) - 3*y(t), 4)\n",
    "\n",
    "# Esta es la solución general de la ecuación en diferencias\n",
    "solucion_general = sp.rsolve(ecuacion, y(t))\n",
    "solucion_general_str = r\"$$y(t) = C_0\\cdot 3^t - 2\\tag{6.a}$$\"\n",
    "\n",
    "dp(mk(f\"La solución general de la ecuación en diferencias {ecuacion_str} es: {solucion_general_str}\"))\n",
    "\n",
    "# Resolver la ecuación en diferencias (acá asignamos que y(0) = 0)\n",
    "solucion_particular = sp.rsolve(ecuacion, y(t), {y(0): 0})\n",
    "solucion_particular_str = r\"$\\begin{equation}\\mathbf{y(t)=2\\cdot 3^t-2}\\end{equation}\\tag{6.b}$\"\n",
    "\n",
    "dp(mk(f\"La solución particular cuando y(0) = 0 es: {solucion_particular_str}\"))"
   ]
  },
  {
   "cell_type": "markdown",
   "metadata": {},
   "source": [
    "### Ecuación (7)"
   ]
  },
  {
   "cell_type": "code",
   "execution_count": 75,
   "metadata": {},
   "outputs": [
    {
     "name": "stdout",
     "output_type": "stream",
     "text": [
      "(-1)**t*C0 + 6**t*C1 + 6**t*t/21\n"
     ]
    },
    {
     "data": {
      "text/markdown": [
       "La solución general de la ecuación en diferencias $ \\begin{equation}\\mathbf{y_{t+2}-5\\cdot y_{t+1}-6\\cdot y_t=2\\cdot (6)^t}\\tag{7}\\end{equation}$ es: $$y(t)=(-1)^t \\cdot C_0 + 6^t \\cdot C_1 + \\frac{6^t \\cdot t}{21}\\tag{7.a}$$"
      ],
      "text/plain": [
       "<IPython.core.display.Markdown object>"
      ]
     },
     "metadata": {},
     "output_type": "display_data"
    },
    {
     "data": {
      "text/markdown": [
       "La solución particular cuando y(0) = 0 es: $\\begin{equation} y(t)= - (-1)^t \\cdot C_1 + 6^t \\cdot C_1 + \\frac{6^t \\cdot t}{21} \\end{equation}\\tag{7.b}$"
      ],
      "text/plain": [
       "<IPython.core.display.Markdown object>"
      ]
     },
     "metadata": {},
     "output_type": "display_data"
    }
   ],
   "source": [
    "t = sp.symbols('t')\n",
    "y = sp.Function('y')\n",
    "\n",
    "# Definir variables y la ecuación en diferencias\n",
    "ecuacion_str = r\"$ \\begin{equation}\\mathbf{y_{t+2}-5\\cdot y_{t+1}-6\\cdot y_t=2\\cdot (6)^t}\\tag{7}\\end{equation}$\"\n",
    "ecuacion = sp.Eq(y(t + 2) - 5*y(t + 1) - 6*y(t), 2 * sp.Pow(6, t))\n",
    "\n",
    "# Esta es la solución general de la ecuación en diferencias\n",
    "solucion_general = sp.rsolve(ecuacion, y(t))\n",
    "print(solucion_general)\n",
    "solucion_general_str = r\"$$y(t)=(-1)^t \\cdot C_0 + 6^t \\cdot C_1 + \\frac{6^t \\cdot t}{21}\\tag{7.a}$$\"\n",
    "\n",
    "# Resolver la ecuación en diferencias (acá asignamos que y(0) = 0)\n",
    "solucion_particular = sp.rsolve(ecuacion, y(t), {y(0): 0})\n",
    "solucion_particular_str = r\"$\\begin{equation} y(t)= - (-1)^t \\cdot C_1 + 6^t \\cdot C_1 + \\frac{6^t \\cdot t}{21} \\end{equation}\\tag{7.b}$\"\n",
    "\n",
    "# Mostrar la solución\n",
    "dp(mk(f\"La solución general de la ecuación en diferencias {ecuacion_str} es: {solucion_general_str}\"))\n",
    "dp(mk(f\"La solución particular cuando y(0) = 0 es: {solucion_particular_str}\"))"
   ]
  }
 ],
 "metadata": {
  "kernelspec": {
   "display_name": "Python 3",
   "language": "python",
   "name": "python3"
  },
  "language_info": {
   "codemirror_mode": {
    "name": "ipython",
    "version": 3
   },
   "file_extension": ".py",
   "mimetype": "text/x-python",
   "name": "python",
   "nbconvert_exporter": "python",
   "pygments_lexer": "ipython3",
   "version": "3.11.5"
  },
  "orig_nbformat": 4
 },
 "nbformat": 4,
 "nbformat_minor": 2
}
