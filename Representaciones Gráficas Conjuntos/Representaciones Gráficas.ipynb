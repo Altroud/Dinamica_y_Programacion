{
 "cells": [
  {
   "cell_type": "markdown",
   "metadata": {},
   "source": [
    "# Representaciones Gráficas de Conjuntos en Python"
   ]
  },
  {
   "cell_type": "markdown",
   "metadata": {},
   "source": [
    "## Paquetes de la sesión\n",
    "```python\n",
    "%pip install numpy\n",
    "%pip install matplotlib\n",
    "import numpy as np\n",
    "import matplotlib.pyplot as plt"
   ]
  },
  {
   "cell_type": "code",
   "execution_count": null,
   "metadata": {},
   "outputs": [],
   "source": [
    "%pip install numpy\n",
    "%pip install matplotlib\n",
    "import numpy as np\n",
    "import matplotlib.pyplot as plt"
   ]
  },
  {
   "cell_type": "markdown",
   "metadata": {},
   "source": [
    "## Punto 1.2"
   ]
  },
  {
   "cell_type": "markdown",
   "metadata": {},
   "source": [
    "### a)"
   ]
  },
  {
   "cell_type": "code",
   "execution_count": null,
   "metadata": {},
   "outputs": [],
   "source": [
    "# Función que verifica si un punto (x, y) cumple la condición x^2 + y^2 >= 1\n",
    "def cumple_condicion(x, y):\n",
    "    return x**2 + y**2 >= 1\n",
    "\n",
    "# Generar una malla de puntos en el rango deseado\n",
    "x_vals = np.linspace(-2, 2, 400)  # Rango para x\n",
    "y_vals = np.linspace(-2, 2, 400)  # Rango para y\n",
    "\n",
    "# Crear una matriz booleana que indica si cada punto cumple la condición\n",
    "points = np.array([[cumple_condicion(x, y) for y in y_vals] for x in x_vals])\n",
    "\n",
    "# Crear una figura y un conjunto de ejes\n",
    "fig, ax = plt.subplots()\n",
    "\n",
    "# Dibujar el conjunto A en blanco y el complemento en negro\n",
    "ax.imshow(points, extent=(-2, 2, -2, 2), origin='lower', cmap='binary')\n",
    "ax.imshow(~points, extent=(-2, 2, -2, 2), origin='lower', cmap='gray', alpha=0.5)\n",
    "\n",
    "# Configurar etiquetas\n",
    "ax.set_xlabel('x')\n",
    "ax.set_ylabel('y')\n",
    "ax.set_title('Conjunto A: {(x, y) ∈ R^2: x^2 + y^2 ≥ 1}')\n",
    "\n",
    "# Mostrar el gráfico\n",
    "plt.show()"
   ]
  },
  {
   "cell_type": "markdown",
   "metadata": {},
   "source": [
    "### b)"
   ]
  },
  {
   "cell_type": "code",
   "execution_count": null,
   "metadata": {},
   "outputs": [],
   "source": [
    "# Función que verifica si un punto (x, y) cumple la condición 0 < x^2 + y^2 <= 1\n",
    "def cumple_condicion(x, y):\n",
    "    return 0 < x**2 + y**2 <= 1\n",
    "\n",
    "# Generar una malla de puntos en el rango deseado\n",
    "x_vals = np.linspace(-1.5, 1.5, 400)  # Rango para x\n",
    "y_vals = np.linspace(-1.5, 1.5, 400)  # Rango para y\n",
    "\n",
    "# Crear una matriz booleana que indica si cada punto cumple la condición\n",
    "points = np.array([[cumple_condicion(x, y) for y in y_vals] for x in x_vals])\n",
    "\n",
    "# Crear una figura y un conjunto de ejes\n",
    "fig, ax = plt.subplots()\n",
    "\n",
    "# Dibujar el conjunto A en blanco\n",
    "ax.imshow(points, extent=(-1.5, 1.5, -1.5, 1.5), origin='lower', cmap='binary')\n",
    "\n",
    "# Configurar etiquetas\n",
    "ax.set_xlabel('x')\n",
    "ax.set_ylabel('y')\n",
    "ax.set_title('Conjunto A: {(x, y) ∈ R^2: 0 < x^2 + y^2 ≤ 1}')\n",
    "\n",
    "# Mostrar el gráfico\n",
    "plt.show()"
   ]
  },
  {
   "cell_type": "markdown",
   "metadata": {},
   "source": [
    "### c)"
   ]
  },
  {
   "cell_type": "code",
   "execution_count": null,
   "metadata": {},
   "outputs": [],
   "source": [
    "# Función que verifica si un punto (x, y) cumple la condición 1 < x^2 + y^2 < 4\n",
    "def cumple_condicion(x, y):\n",
    "    return 1 < x**2 + y**2 < 4\n",
    "\n",
    "# Generar una malla de puntos en el rango deseado\n",
    "x_vals = np.linspace(-2.5, 2.5, 400)  # Rango para x\n",
    "y_vals = np.linspace(-2.5, 2.5, 400)  # Rango para y\n",
    "\n",
    "# Crear una matriz booleana que indica si cada punto cumple la condición\n",
    "points = np.array([[cumple_condicion(x, y) for y in y_vals] for x in x_vals])\n",
    "\n",
    "# Crear una figura y un conjunto de ejes\n",
    "fig, ax = plt.subplots()\n",
    "\n",
    "# Dibujar el conjunto A en blanco\n",
    "ax.imshow(points, extent=(-2.5, 2.5, -2.5, 2.5), origin='lower', cmap='binary')\n",
    "\n",
    "# Configurar etiquetas\n",
    "ax.set_xlabel('x')\n",
    "ax.set_ylabel('y')\n",
    "ax.set_title('Conjunto A: {(x, y) ∈ R^2: 1 < x^2 + y^2 < 4}')\n",
    "\n",
    "# Mostrar el gráfico\n",
    "plt.show()\n"
   ]
  },
  {
   "cell_type": "markdown",
   "metadata": {},
   "source": [
    "### d)"
   ]
  },
  {
   "cell_type": "code",
   "execution_count": null,
   "metadata": {},
   "outputs": [],
   "source": [
    "# Función que verifica si un punto (x, y) cumple la condición 1 < x^2 + y^2 < 4\n",
    "def cumple_condicion(x, y):\n",
    "    return 1 < x**2 + y**2 < 4\n",
    "\n",
    "# Generar una malla de puntos en el rango deseado\n",
    "x_vals = np.linspace(-2.5, 2.5, 400)  # Rango para x\n",
    "y_vals = np.linspace(-2.5, 2.5, 400)  # Rango para y\n",
    "\n",
    "# Crear una matriz booleana que indica si cada punto cumple la condición\n",
    "points = np.array([[cumple_condicion(x, y) for y in y_vals] for x in x_vals])\n",
    "\n",
    "# Crear una figura y un conjunto de ejes\n",
    "fig, ax = plt.subplots()\n",
    "\n",
    "# Dibujar el conjunto A en blanco\n",
    "ax.imshow(points, extent=(-2.5, 2.5, -2.5, 2.5), origin='lower', cmap='binary')\n",
    "\n",
    "# Configurar etiquetas\n",
    "ax.set_xlabel('x')\n",
    "ax.set_ylabel('y')\n",
    "ax.set_title('Conjunto A: {(x, y) ∈ R^2: 1 < x^2 + y^2 < 4}')\n",
    "\n",
    "# Mostrar el gráfico\n",
    "plt.show()"
   ]
  },
  {
   "cell_type": "markdown",
   "metadata": {},
   "source": [
    "### e)"
   ]
  },
  {
   "cell_type": "code",
   "execution_count": null,
   "metadata": {},
   "outputs": [],
   "source": [
    "# Función que verifica si un punto (x, y) cumple las condiciones\n",
    "def cumple_condicion(x, y):\n",
    "    return x <= y**2 and x**2 + y**2 <= 1\n",
    "\n",
    "# Generar una malla de puntos en el rango deseado\n",
    "x_vals = np.linspace(-1.5, 1.5, 400)  # Rango para x\n",
    "y_vals = np.linspace(-1.5, 1.5, 400)  # Rango para y\n",
    "\n",
    "# Crear una matriz booleana que indica si cada punto cumple las condiciones\n",
    "points = np.array([[cumple_condicion(x, y) for y in y_vals] for x in x_vals])\n",
    "\n",
    "# Crear una figura y un conjunto de ejes\n",
    "fig, ax = plt.subplots()\n",
    "\n",
    "# Dibujar el conjunto A en blanco\n",
    "ax.imshow(points, extent=(-1.5, 1.5, -1.5, 1.5), origin='lower', cmap='binary')\n",
    "\n",
    "# Configurar etiquetas\n",
    "ax.set_xlabel('x')\n",
    "ax.set_ylabel('y')\n",
    "ax.set_title('Conjunto A: {(x, y) ∈ R^2: x ≤ y^2, x^2 + y^2 ≤ 1}')\n",
    "\n",
    "# Mostrar el gráfico\n",
    "plt.show()"
   ]
  },
  {
   "cell_type": "markdown",
   "metadata": {},
   "source": [
    "### f)"
   ]
  },
  {
   "cell_type": "code",
   "execution_count": null,
   "metadata": {},
   "outputs": [],
   "source": [
    "# Función que verifica si un punto (x, y) cumple las condiciones\n",
    "def cumple_condicion(x, y):\n",
    "    return y >= x**2 and -1 < x < 1\n",
    "\n",
    "# Generar una malla de puntos en el rango deseado\n",
    "x_vals = np.linspace(-1.5, 1.5, 400)  # Rango para x\n",
    "y_vals = np.linspace(-0.5, 1.5, 400)  # Rango para y\n",
    "\n",
    "# Crear una matriz booleana que indica si cada punto cumple las condiciones\n",
    "points = np.array([[cumple_condicion(x, y) for y in y_vals] for x in x_vals])\n",
    "\n",
    "# Crear una figura y un conjunto de ejes\n",
    "fig, ax = plt.subplots()\n",
    "\n",
    "# Dibujar el conjunto A en blanco\n",
    "ax.imshow(points, extent=(-1.5, 1.5, -0.5, 1.5), origin='lower', cmap='binary')\n",
    "\n",
    "# Configurar etiquetas\n",
    "ax.set_xlabel('x')\n",
    "ax.set_ylabel('y')\n",
    "ax.set_title('Conjunto A: {(x, y) ∈ R^2: y ≥ x^2, -1 < x < 1}')\n",
    "\n",
    "# Mostrar el gráfico\n",
    "plt.show()"
   ]
  },
  {
   "cell_type": "markdown",
   "metadata": {},
   "source": [
    "### g)"
   ]
  },
  {
   "cell_type": "code",
   "execution_count": null,
   "metadata": {},
   "outputs": [],
   "source": [
    "# Crear una figura y un conjunto de ejes\n",
    "fig, ax = plt.subplots()\n",
    "\n",
    "# Configurar etiquetas\n",
    "ax.set_xlabel('x')\n",
    "ax.set_ylabel('y')\n",
    "ax.set_title('Conjunto A: {(x, y) ∈ R^2: x^2 + y^2 < 0}')\n",
    "\n",
    "# Mostrar el gráfico\n",
    "plt.show()"
   ]
  }
 ],
 "metadata": {
  "kernelspec": {
   "display_name": "Python 3",
   "language": "python",
   "name": "python3"
  },
  "language_info": {
   "codemirror_mode": {
    "name": "ipython",
    "version": 3
   },
   "file_extension": ".py",
   "mimetype": "text/x-python",
   "name": "python",
   "nbconvert_exporter": "python",
   "pygments_lexer": "ipython3",
   "version": "3.11.5"
  },
  "orig_nbformat": 4
 },
 "nbformat": 4,
 "nbformat_minor": 2
}
